{
 "cells": [
  {
   "cell_type": "markdown",
   "metadata": {},
   "source": [
    "# House-Prices"
   ]
  },
  {
   "cell_type": "markdown",
   "metadata": {},
   "source": [
    "## Importação das Bibliotecas"
   ]
  },
  {
   "cell_type": "code",
   "execution_count": null,
   "metadata": {},
   "outputs": [],
   "source": [
    "import numpy as np # álgebra linear\n",
    "import pandas as pd # processamento de dados"
   ]
  },
  {
   "cell_type": "markdown",
   "metadata": {},
   "source": [
    "## Carregamento das bases de dados"
   ]
  },
  {
   "cell_type": "code",
   "execution_count": null,
   "metadata": {},
   "outputs": [],
   "source": [
    "train = pd.read_csv('train.csv') \n",
    "test  = pd.read_csv('test.csv')"
   ]
  },
  {
   "cell_type": "code",
   "execution_count": null,
   "metadata": {},
   "outputs": [],
   "source": [
    "train.shape"
   ]
  },
  {
   "cell_type": "markdown",
   "metadata": {},
   "source": [
    "# Pre-processamento"
   ]
  },
  {
   "cell_type": "code",
   "execution_count": null,
   "metadata": {},
   "outputs": [],
   "source": [
    "# Remove qualquer linha que tenha o valor SalePrice nulo\n",
    "Target = 'SalePrice'\n",
    "train.dropna(axis=0, subset=[Target], inplace=True)"
   ]
  },
  {
   "cell_type": "code",
   "execution_count": null,
   "metadata": {},
   "outputs": [],
   "source": [
    "train.shape"
   ]
  },
  {
   "cell_type": "code",
   "execution_count": null,
   "metadata": {},
   "outputs": [],
   "source": [
    "# Junta os DataFrames de treino e teste em apenas um, para ganhar consistência.\n",
    "data=pd.concat([train.iloc[:,:-1],test],axis=0)\n",
    "\n",
    "print('train df possui {} linhas e {} colunas'.format(train.shape[0],train.shape[1]))\n",
    "print('test df possui {} linhas e {} colunas'.format(test.shape[0],test.shape[1]))\n",
    "print('data df possui {} linhas e {} colunas'.format(data.shape[0],data.shape[1]))"
   ]
  },
  {
   "cell_type": "code",
   "execution_count": null,
   "metadata": {},
   "outputs": [],
   "source": [
    "data = data.drop(columns=['Id'],axis=1)"
   ]
  },
  {
   "cell_type": "markdown",
   "metadata": {},
   "source": [
    "## Valores Nulos"
   ]
  },
  {
   "cell_type": "code",
   "execution_count": null,
   "metadata": {},
   "outputs": [],
   "source": [
    "# Exibe os valores faltantes e a porcentagem com relação ao total\n",
    "def missingValuesInfo(df):\n",
    "    total = df.isnull().sum().sort_values(ascending = False)\n",
    "    percent = round(df.isnull().sum().sort_values(ascending = False)/len(df)*100, 2)\n",
    "    temp = pd.concat([total, percent], axis = 1,keys= ['Total', 'Percent'])\n",
    "    return temp.loc[(temp['Total'] > 0)]\n",
    "\n",
    "missingValuesInfo(train)"
   ]
  },
  {
   "cell_type": "code",
   "execution_count": null,
   "metadata": {},
   "outputs": [],
   "source": [
    "# Manipulação dos valores faltantes\n",
    "\n",
    "def HandleMissingValues(df):\n",
    "    # para colunas do tipo Object preenche com 'UNKNOWN'\n",
    "    # para colunas do tipo Numeric preenche com a média\n",
    "    \n",
    "    # para cada coluna em df.columns (nomeadas como 'cname'), seleciona-se aquelas que são de tipo numérico\n",
    "    num_cols = [cname for cname in df.columns if df[cname].dtype in ['int64', 'float64']]\n",
    "    \n",
    "    # para cada coluna em df.columns (nomeadas como 'cname'), seleciona-se aquelas que são de tipo objeto(colunas categóricas)\n",
    "    cat_cols = [cname for cname in df.columns if df[cname].dtype == \"object\"]\n",
    "   \n",
    "    # Monta-se um array para receber os valores substitutos\n",
    "    values = {}\n",
    "    \n",
    "    # colunas do tipo object recebem 'UNKNOWN'\n",
    "    for a in cat_cols:\n",
    "        values[a] = 'UNKNOWN'\n",
    "    \n",
    "     # colunas do tipo numérico recebem a média\n",
    "    for a in num_cols:\n",
    "        values[a] = df[a].median()\n",
    "    \n",
    "    # substitui todos os valores nulos do dataframe pelos contidos no array 'values'\n",
    "    df.fillna(value=values,inplace=True)\n",
    "    \n",
    "HandleMissingValues(data)\n",
    "data.head()"
   ]
  },
  {
   "cell_type": "code",
   "execution_count": null,
   "metadata": {},
   "outputs": [],
   "source": [
    "data.Alley.unique()"
   ]
  },
  {
   "cell_type": "code",
   "execution_count": null,
   "metadata": {},
   "outputs": [],
   "source": [
    "# Conferindo os valores nulos:\n",
    "data.isnull().sum().sum()"
   ]
  },
  {
   "cell_type": "markdown",
   "metadata": {},
   "source": [
    "## Transformação dos valores categóricos em numéricos"
   ]
  },
  {
   "cell_type": "code",
   "execution_count": null,
   "metadata": {},
   "outputs": [],
   "source": [
    "# Categorical Feature Encoding: transformação dos valores categóricos em valores numéricos\n",
    "# Utiliza-se One-Hot-Encoding\n",
    "\n",
    "# Retorna as colunas do tipo 'object'\n",
    "def getObjectColumnsList(df):\n",
    "    return [cname for cname in df.columns if df[cname].dtype == \"object\"]\n",
    "\n",
    "# Executa o One-Hot-Encoding\n",
    "def PerformOneHotEncoding(df,columnsToEncode):\n",
    "    return pd.get_dummies(df,columns = columnsToEncode)\n",
    "\n",
    "cat_cols = getObjectColumnsList(data)\n",
    "data = PerformOneHotEncoding(data,cat_cols)\n",
    "data.head()"
   ]
  },
  {
   "cell_type": "code",
   "execution_count": null,
   "metadata": {},
   "outputs": [],
   "source": [
    "data.shape"
   ]
  },
  {
   "cell_type": "code",
   "execution_count": null,
   "metadata": {},
   "outputs": [],
   "source": [
    "# re-divide o dataframe 'data' em 'train' e 'test', uma vez que os valores estão pre-processados\n",
    "train_data=data.iloc[:1460,:] # Pega do começo até a linha 1460\n",
    "test_data=data.iloc[1460:,:] # Pega da linha 1460 (não incluída) até o final\n",
    "print(train_data.shape)\n",
    "test_data.shape"
   ]
  },
  {
   "cell_type": "markdown",
   "metadata": {},
   "source": [
    "# Dados estão Transformados!!!"
   ]
  },
  {
   "cell_type": "markdown",
   "metadata": {},
   "source": [
    "# Mineração"
   ]
  },
  {
   "cell_type": "code",
   "execution_count": null,
   "metadata": {},
   "outputs": [],
   "source": [
    "# Get X,y for modelling\n",
    "X=train_data\n",
    "y=train.loc[:,'SalePrice']"
   ]
  },
  {
   "cell_type": "markdown",
   "metadata": {},
   "source": [
    "## Utilização do RidgeCV"
   ]
  },
  {
   "cell_type": "code",
   "execution_count": null,
   "metadata": {},
   "outputs": [],
   "source": [
    "from sklearn.linear_model import RidgeCV # Regressão de Ridge com validação cruzada incorporada\n",
    "\n",
    "# Configura, realiza o fit e as predições no dataframe 'test'\n",
    "ridge_cv = RidgeCV(alphas=(0.01, 0.05, 0.1, 0.3, 1, 3, 5, 10))\n",
    "ridge_cv.fit(X, y)\n",
    "ridge_cv_preds=ridge_cv.predict(test_data)"
   ]
  },
  {
   "cell_type": "markdown",
   "metadata": {},
   "source": [
    "## Utilização do xgboost"
   ]
  },
  {
   "cell_type": "code",
   "execution_count": null,
   "metadata": {},
   "outputs": [],
   "source": [
    "import xgboost as xgb # Extreme Gradient Boosting\n",
    "\n",
    "# Configura, realiza o fit e as predições no dataframe 'test'\n",
    "model_xgb = xgb.XGBRegressor(n_estimators=340, max_depth=2, learning_rate=0.2)\n",
    "model_xgb.fit(X, y)\n",
    "xgb_preds=model_xgb.predict(test_data)"
   ]
  },
  {
   "cell_type": "code",
   "execution_count": null,
   "metadata": {},
   "outputs": [],
   "source": [
    "# O python é tão foda que quando vc escreve o que está aqui embaixo,\n",
    "# ele vê que os dois arrays (ridge_cv_preds, xgb_preds) tem o mesmo tamanho,\n",
    "# assim soma o valores de mesma posição e divide por 2, \n",
    "# ou seja, o resultado é a média das predições.\n",
    "predictions = ( ridge_cv_preds + xgb_preds )/2"
   ]
  },
  {
   "cell_type": "code",
   "execution_count": null,
   "metadata": {},
   "outputs": [],
   "source": [
    "# criar o dataframe para submissão\n",
    "submission = {\n",
    "    'Id': test.Id.values,\n",
    "    'SalePrice': predictions\n",
    "}\n",
    "solution = pd.DataFrame(submission)\n",
    "solution.head()"
   ]
  },
  {
   "cell_type": "code",
   "execution_count": null,
   "metadata": {},
   "outputs": [],
   "source": [
    "#salva para o arquivo csv\n",
    "solution.to_csv('submission.csv',index=False)"
   ]
  },
  {
   "cell_type": "markdown",
   "metadata": {},
   "source": [
    "## Regressão Linear"
   ]
  },
  {
   "cell_type": "code",
   "execution_count": null,
   "metadata": {},
   "outputs": [],
   "source": [
    "from sklearn import linear_model\n",
    "\n",
    "# Configura, realiza o fit e as predições no dataframe 'test'\n",
    "lr = linear_model.LinearRegression()\n",
    "model = lr.fit(X, y)\n",
    "linear_pred = model.predict(test_data)"
   ]
  },
  {
   "cell_type": "code",
   "execution_count": null,
   "metadata": {},
   "outputs": [],
   "source": [
    "# criar o dataframe para submissão (Apenas linear)\n",
    "submission = {\n",
    "    'Id': test.Id.values,\n",
    "    'SalePrice': linear_pred\n",
    "}\n",
    "solution = pd.DataFrame(submission)\n",
    "#salva para o arquivo csv\n",
    "solution.to_csv('submissionLinear.csv',index=False)"
   ]
  },
  {
   "cell_type": "code",
   "execution_count": null,
   "metadata": {},
   "outputs": [],
   "source": [
    "# criar o dataframe para submissão (Apenas XGB)\n",
    "submission = {\n",
    "    'Id': test.Id.values,\n",
    "    'SalePrice': xgb_preds\n",
    "}\n",
    "solution = pd.DataFrame(submission)\n",
    "#salva para o arquivo csv\n",
    "solution.to_csv('submissionXgb.csv',index=False)"
   ]
  },
  {
   "cell_type": "markdown",
   "metadata": {},
   "source": [
    "# Verificando os resultados"
   ]
  },
  {
   "cell_type": "code",
   "execution_count": null,
   "metadata": {},
   "outputs": [],
   "source": [
    "print ('RIDGE_CV RMSE: \\n', ridge_cv.score(X, y))\n",
    "print ('XGB RMSE: \\n', model_xgb.score(X, y))\n",
    "print ('Linear RMSE: \\n', model.score(X, y))"
   ]
  },
  {
   "cell_type": "code",
   "execution_count": null,
   "metadata": {},
   "outputs": [],
   "source": []
  }
 ],
 "metadata": {
  "kernelspec": {
   "display_name": "Python 3",
   "language": "python",
   "name": "python3"
  },
  "language_info": {
   "codemirror_mode": {
    "name": "ipython",
    "version": 3
   },
   "file_extension": ".py",
   "mimetype": "text/x-python",
   "name": "python",
   "nbconvert_exporter": "python",
   "pygments_lexer": "ipython3",
   "version": "3.8.5"
  }
 },
 "nbformat": 4,
 "nbformat_minor": 4
}
